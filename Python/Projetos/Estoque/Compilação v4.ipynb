{
 "cells": [
  {
   "cell_type": "markdown",
   "metadata": {},
   "source": [
    "# Análise de Dados"
   ]
  },
  {
   "cell_type": "markdown",
   "metadata": {},
   "source": [
    "## Importando Pacotes"
   ]
  },
  {
   "cell_type": "code",
   "execution_count": 1,
   "metadata": {},
   "outputs": [],
   "source": [
    "import pandas as pd\n",
    "import datetime\n",
    "from scipy.stats import norm\n",
    "import math\n",
    "import numpy as np\n",
    "import datetime as dt"
   ]
  },
  {
   "cell_type": "markdown",
   "metadata": {},
   "source": [
    "## Tasy (HTML + DELPH)"
   ]
  },
  {
   "cell_type": "markdown",
   "metadata": {},
   "source": [
    "### Criando base de Consumo"
   ]
  },
  {
   "cell_type": "markdown",
   "metadata": {},
   "source": [
    "#### Importando bases"
   ]
  },
  {
   "cell_type": "code",
   "execution_count": 2,
   "metadata": {},
   "outputs": [],
   "source": [
    "mov_tasy = pd.read_csv('Movimento_HTML.csv', encoding = 'utf-8')"
   ]
  },
  {
   "cell_type": "code",
   "execution_count": 3,
   "metadata": {},
   "outputs": [
    {
     "name": "stderr",
     "output_type": "stream",
     "text": [
      "C:\\ProgramData\\Anaconda3\\lib\\site-packages\\IPython\\core\\interactiveshell.py:3146: DtypeWarning: Columns (17) have mixed types.Specify dtype option on import or set low_memory=False.\n",
      "  has_raised = await self.run_ast_nodes(code_ast.body, cell_name,\n"
     ]
    }
   ],
   "source": [
    "mov_delph = pd.read_csv('Movimento_Delph.csv', encoding = 'utf-8')"
   ]
  },
  {
   "cell_type": "markdown",
   "metadata": {},
   "source": [
    "#### Adicionando colunas para as Bases"
   ]
  },
  {
   "cell_type": "code",
   "execution_count": 4,
   "metadata": {},
   "outputs": [],
   "source": [
    "mov_tasy['Base'] = 'Tasy HTML'"
   ]
  },
  {
   "cell_type": "code",
   "execution_count": 5,
   "metadata": {},
   "outputs": [],
   "source": [
    "mov_delph['Base'] = 'Tasy Delph'"
   ]
  },
  {
   "cell_type": "markdown",
   "metadata": {},
   "source": [
    "#### Consolidando as Bases"
   ]
  },
  {
   "cell_type": "code",
   "execution_count": 6,
   "metadata": {},
   "outputs": [],
   "source": [
    "mov_tasy = mov_tasy.append(mov_delph)"
   ]
  },
  {
   "cell_type": "markdown",
   "metadata": {},
   "source": [
    "#### Convertendo types das colunas"
   ]
  },
  {
   "cell_type": "code",
   "execution_count": 7,
   "metadata": {},
   "outputs": [],
   "source": [
    "mov_tasy.drop('NR_DOCUMENTO', axis = 'columns', inplace = True)"
   ]
  },
  {
   "cell_type": "code",
   "execution_count": 8,
   "metadata": {},
   "outputs": [],
   "source": [
    "mov_tasy.DT_MOVIMENTO_ESTOQUE = pd.to_datetime(mov_tasy.DT_MOVIMENTO_ESTOQUE,dayfirst = True)"
   ]
  },
  {
   "cell_type": "code",
   "execution_count": 9,
   "metadata": {},
   "outputs": [],
   "source": [
    "mov_tasy['QT_MOVIMENTO'] = mov_tasy['QT_MOVIMENTO'].astype('str')"
   ]
  },
  {
   "cell_type": "code",
   "execution_count": 10,
   "metadata": {},
   "outputs": [],
   "source": [
    "mov_tasy['QT_MOVIMENTO'] = mov_tasy['QT_MOVIMENTO'].str.replace(',','.')"
   ]
  },
  {
   "cell_type": "code",
   "execution_count": 11,
   "metadata": {},
   "outputs": [],
   "source": [
    "mov_tasy['QT_MOVIMENTO'] = pd.to_numeric(mov_tasy['QT_MOVIMENTO'])"
   ]
  },
  {
   "cell_type": "code",
   "execution_count": 12,
   "metadata": {},
   "outputs": [],
   "source": [
    "mov_tasy['VALOR_MOVIMENTO'] = mov_tasy['VALOR_MOVIMENTO'].str.replace(',','.')"
   ]
  },
  {
   "cell_type": "code",
   "execution_count": 13,
   "metadata": {},
   "outputs": [],
   "source": [
    "mov_tasy['VALOR_MOVIMENTO'] = pd.to_numeric(mov_tasy['VALOR_MOVIMENTO'])"
   ]
  },
  {
   "cell_type": "code",
   "execution_count": 14,
   "metadata": {},
   "outputs": [],
   "source": [
    "mov_tasy['VALOR_MOVIMENTO'].fillna(0, inplace = True)"
   ]
  },
  {
   "cell_type": "code",
   "execution_count": 15,
   "metadata": {},
   "outputs": [],
   "source": [
    "mov_tasy['QT_MOVIMENTO'].fillna(0, inplace = True)"
   ]
  },
  {
   "cell_type": "code",
   "execution_count": 16,
   "metadata": {},
   "outputs": [],
   "source": [
    "mov_tasy.fillna('N/A', inplace = True)"
   ]
  },
  {
   "cell_type": "markdown",
   "metadata": {},
   "source": [
    "#### Transformando coluna de CD_ACAO"
   ]
  },
  {
   "cell_type": "code",
   "execution_count": 17,
   "metadata": {},
   "outputs": [],
   "source": [
    "def CD_ACAO(dado):\n",
    "    if dado == 1:\n",
    "        return 1\n",
    "    else:\n",
    "        return -1"
   ]
  },
  {
   "cell_type": "code",
   "execution_count": 18,
   "metadata": {},
   "outputs": [],
   "source": [
    "mov_tasy['QT_MOVIMENTO'] = mov_tasy['CD_ACAO'].apply(CD_ACAO)*mov_tasy['QT_MOVIMENTO']"
   ]
  },
  {
   "cell_type": "code",
   "execution_count": 19,
   "metadata": {},
   "outputs": [],
   "source": [
    "mov_tasy['VALOR_MOVIMENTO'] = mov_tasy['CD_ACAO'].apply(CD_ACAO)*mov_tasy['VALOR_MOVIMENTO']"
   ]
  },
  {
   "cell_type": "markdown",
   "metadata": {},
   "source": [
    "#### Colocando devolução de consumo "
   ]
  },
  {
   "cell_type": "code",
   "execution_count": 20,
   "metadata": {},
   "outputs": [],
   "source": [
    "def Dev_Consumo(dado):\n",
    "    if dado == 'Devolução Consumo':\n",
    "        return -1\n",
    "    else:\n",
    "        return 1"
   ]
  },
  {
   "cell_type": "code",
   "execution_count": 21,
   "metadata": {},
   "outputs": [],
   "source": [
    "mov_tasy['QT_MOVIMENTO'] = mov_tasy['DS_OPERACAO'].apply(Dev_Consumo)*mov_tasy['QT_MOVIMENTO']"
   ]
  },
  {
   "cell_type": "code",
   "execution_count": 22,
   "metadata": {},
   "outputs": [],
   "source": [
    "mov_tasy['VALOR_MOVIMENTO'] = mov_tasy['DS_OPERACAO'].apply(Dev_Consumo)*mov_tasy['VALOR_MOVIMENTO']"
   ]
  },
  {
   "cell_type": "code",
   "execution_count": 23,
   "metadata": {},
   "outputs": [],
   "source": [
    "# Colocando meses\n",
    "\n",
    "mov_tasy['MES'] = pd.DatetimeIndex(mov_tasy['DT_MOVIMENTO_ESTOQUE']).month"
   ]
  },
  {
   "cell_type": "markdown",
   "metadata": {},
   "source": [
    "#### Base de Consumo"
   ]
  },
  {
   "cell_type": "code",
   "execution_count": 24,
   "metadata": {},
   "outputs": [],
   "source": [
    "# Descrições de consumo\n",
    "\n",
    "lista_consumo_tasy =['Execução Prescrição',\n",
    "                     'Consumo',\n",
    "                     'CONSIGNADO - Consumo',\n",
    "                     'Reservas de lentes (INOB)',\n",
    "                     'Devolução Consumo',\n",
    "                     'Consumo Consignado',\n",
    "                     'Reserva de OPME']"
   ]
  },
  {
   "cell_type": "code",
   "execution_count": 25,
   "metadata": {},
   "outputs": [],
   "source": [
    "# Filtro últimos 90 dias\n",
    "\n",
    "today = datetime.date(2021, 3, 2)\n",
    "filter_today = str(today)\n",
    "last_ninety_days = today - dt.timedelta(days=90)\n",
    "filter_days = str(last_ninety_days)"
   ]
  },
  {
   "cell_type": "code",
   "execution_count": 26,
   "metadata": {},
   "outputs": [],
   "source": [
    "base = today\n",
    "numdays = 90\n",
    "date_list = [base - datetime.timedelta(days=x) for x in range(numdays)]\n",
    "ultimas_datas_tasy = pd.DataFrame(date_list)"
   ]
  },
  {
   "cell_type": "code",
   "execution_count": 27,
   "metadata": {},
   "outputs": [],
   "source": [
    "# Ultimas datas\n",
    "\n",
    "ultimas_datas_tasy.columns = ['DT_MOVIMENTO_ESTOQUE']\n",
    "ultimas_datas_tasy.DT_MOVIMENTO_ESTOQUE = pd.to_datetime(ultimas_datas_tasy.DT_MOVIMENTO_ESTOQUE)\n",
    "ultimas_datas_tasy.sort_values(by = 'DT_MOVIMENTO_ESTOQUE', ascending = True, inplace = True)"
   ]
  },
  {
   "cell_type": "code",
   "execution_count": 28,
   "metadata": {},
   "outputs": [],
   "source": [
    "# Filtrando e criando a base\n",
    "\n",
    "consumo_tasy = mov_tasy[mov_tasy.DS_OPERACAO.isin(lista_consumo_tasy)]\n",
    "consumo_tasy = consumo_tasy[consumo_tasy['DT_MOVIMENTO_ESTOQUE'] >= filter_days]\n",
    "consumo_tasy = consumo_tasy[consumo_tasy['DT_MOVIMENTO_ESTOQUE'] < filter_today]"
   ]
  },
  {
   "cell_type": "code",
   "execution_count": 29,
   "metadata": {},
   "outputs": [],
   "source": [
    "# Criando Lista de Materiais\n",
    "\n",
    "Colunas_filtro = ['Base',\n",
    "                  'NM_FANTASIA_ESTAB',\n",
    "                  'CD_MATERIAL',\n",
    "                  'DS_REDUZIDA',\n",
    "                  'FAMILIA_PADRAO',\n",
    "                  'CLASSE_MATERIAL',\n",
    "                  'SUBGRUPO',\n",
    "                  'GRUPO']\n",
    "lista_materiais = consumo_tasy[Colunas_filtro].copy()\n",
    "lista_materiais.drop_duplicates(inplace=True)"
   ]
  },
  {
   "cell_type": "code",
   "execution_count": 30,
   "metadata": {},
   "outputs": [],
   "source": [
    "# Construindo base_consumo_tasy\n",
    "\n",
    "lista_materiais['Aux'] = 'Auxiliar'\n",
    "ultimas_datas_tasy['Aux'] = 'Auxiliar'\n",
    "\n",
    "base_consumo_tasy = lista_materiais.merge(ultimas_datas_tasy, how = 'outer', on=['Aux'])\n",
    "base_consumo_tasy.drop(['Aux'],axis = 1,inplace=True)\n",
    "base_consumo_tasy.fillna(0, inplace=True)"
   ]
  },
  {
   "cell_type": "code",
   "execution_count": 31,
   "metadata": {},
   "outputs": [],
   "source": [
    "# Filtro HCLOE dezembro\n",
    "\n",
    "base_consumo_tasy['Month'] = pd.DatetimeIndex(base_consumo_tasy['DT_MOVIMENTO_ESTOQUE']).month"
   ]
  },
  {
   "cell_type": "code",
   "execution_count": 32,
   "metadata": {},
   "outputs": [],
   "source": [
    "lista_SP = ['HCLOE - Itapeva 01-21',\n",
    "            'VISCLIN - Matriz Itaim - 01-03',\n",
    "            'VISCLIN - Filial Alphaville -  02-94',\n",
    "            'HCLOE - Vila Gomes (Tatuapé) 05-55',\n",
    "            'HCLOE - Vila São Francisco (Morumbi) - 07-17',\n",
    "            'SPEC - Perdizes',\n",
    "            'VISCLIN - Filial Vila Olimpia - 03-75']\n",
    "filtro_1 = base_consumo_tasy.NM_FANTASIA_ESTAB.isin(lista_SP)\n",
    "filtro_2 = base_consumo_tasy.Month == 12\n",
    "filtro = filtro_1 & filtro_2\n",
    "base_consumo_tasy.drop(base_consumo_tasy[filtro].index, inplace = True)"
   ]
  },
  {
   "cell_type": "code",
   "execution_count": 33,
   "metadata": {},
   "outputs": [],
   "source": [
    "# Consumo diário\n",
    "consumo_diario = consumo_tasy.pivot_table(index = ['Base',\n",
    "                                                   'NM_FANTASIA_ESTAB',\n",
    "                                                   'CD_MATERIAL',\n",
    "                                                   'DS_REDUZIDA',\n",
    "                                                   'FAMILIA_PADRAO',\n",
    "                                                   'CLASSE_MATERIAL',\n",
    "                                                   'SUBGRUPO',\n",
    "                                                   'GRUPO',\n",
    "                                                   'DT_MOVIMENTO_ESTOQUE'],\n",
    "                                          values = ['QT_MOVIMENTO',\n",
    "                                                   'VALOR_MOVIMENTO'],\n",
    "                                          aggfunc = {'QT_MOVIMENTO': sum,\n",
    "                                                     'VALOR_MOVIMENTO': sum})\n",
    "consumo_diario = consumo_diario.reset_index()"
   ]
  },
  {
   "cell_type": "code",
   "execution_count": 34,
   "metadata": {},
   "outputs": [],
   "source": [
    "# finalizando\n",
    "base_consumo_tasy = base_consumo_tasy.merge(consumo_diario,\n",
    "                                            how = 'left',\n",
    "                                            on = ['Base',\n",
    "                                                   'NM_FANTASIA_ESTAB',\n",
    "                                                   'CD_MATERIAL',\n",
    "                                                   'DS_REDUZIDA',\n",
    "                                                   'FAMILIA_PADRAO',\n",
    "                                                   'CLASSE_MATERIAL',\n",
    "                                                   'SUBGRUPO',\n",
    "                                                   'GRUPO',\n",
    "                                                   'DT_MOVIMENTO_ESTOQUE'])"
   ]
  },
  {
   "cell_type": "markdown",
   "metadata": {},
   "source": [
    "#### Encontrando Média diária e Desvio Padrão "
   ]
  },
  {
   "cell_type": "code",
   "execution_count": 35,
   "metadata": {},
   "outputs": [],
   "source": [
    "base_consumo_tasy.fillna(0, inplace=True)"
   ]
  },
  {
   "cell_type": "code",
   "execution_count": 36,
   "metadata": {},
   "outputs": [],
   "source": [
    "base_avg_std_tasy = base_consumo_tasy.pivot_table(index = ['Base',\n",
    "                                                           'NM_FANTASIA_ESTAB',\n",
    "                                                           'CD_MATERIAL',\n",
    "                                                           'DS_REDUZIDA',\n",
    "                                                           'FAMILIA_PADRAO',\n",
    "                                                           'CLASSE_MATERIAL',\n",
    "                                                           'SUBGRUPO',\n",
    "                                                           'GRUPO'],\n",
    "                                                  values = ['QT_MOVIMENTO','VALOR_MOVIMENTO'],\n",
    "                                                  aggfunc = {'QT_MOVIMENTO': [np.mean, np.std, sum],\n",
    "                                                             'VALOR_MOVIMENTO': sum})"
   ]
  },
  {
   "cell_type": "code",
   "execution_count": 37,
   "metadata": {},
   "outputs": [],
   "source": [
    "# Reset index\n",
    "\n",
    "base_avg_std_tasy.reset_index(inplace=True)"
   ]
  },
  {
   "cell_type": "code",
   "execution_count": 38,
   "metadata": {},
   "outputs": [],
   "source": [
    "base_avg_std_tasy.columns = ['Base',\n",
    "                             'NM_FANTASIA_ESTAB',\n",
    "                             'CD_MATERIAL',\n",
    "                             'DS_REDUZIDA',\n",
    "                             'FAMILIA_PADRAO',\n",
    "                             'CLASSE_MATERIAL',\n",
    "                             'SUBGRUPO',\n",
    "                             'GRUPO',\n",
    "                             'QT_MOV_MEAN',\n",
    "                             'QT_MOV_STD',\n",
    "                             'QT_MOV_SUM',\n",
    "                             'VALOR_MOV_SUM']"
   ]
  },
  {
   "cell_type": "markdown",
   "metadata": {},
   "source": [
    "### Cálculo de Política de estoques"
   ]
  },
  {
   "cell_type": "markdown",
   "metadata": {},
   "source": [
    "#### Importando Saldo "
   ]
  },
  {
   "cell_type": "code",
   "execution_count": 39,
   "metadata": {},
   "outputs": [],
   "source": [
    "saldo_html = pd.read_csv('Saldo_HTML.csv', encoding = 'utf-8')"
   ]
  },
  {
   "cell_type": "code",
   "execution_count": 40,
   "metadata": {},
   "outputs": [],
   "source": [
    "saldo_delph = pd.read_csv('Saldo_Delph.csv', encoding = 'utf-8')"
   ]
  },
  {
   "cell_type": "markdown",
   "metadata": {},
   "source": [
    "#### Inserindo base "
   ]
  },
  {
   "cell_type": "code",
   "execution_count": 41,
   "metadata": {},
   "outputs": [],
   "source": [
    "saldo_html['Base'] = 'Tasy HTML'"
   ]
  },
  {
   "cell_type": "code",
   "execution_count": 42,
   "metadata": {},
   "outputs": [],
   "source": [
    "saldo_delph['Base'] = 'Tasy Delph'"
   ]
  },
  {
   "cell_type": "markdown",
   "metadata": {},
   "source": [
    "#### Merging ambas tabelas\n"
   ]
  },
  {
   "cell_type": "code",
   "execution_count": 43,
   "metadata": {},
   "outputs": [],
   "source": [
    "saldo_tasy = saldo_html.append(saldo_delph)"
   ]
  },
  {
   "cell_type": "markdown",
   "metadata": {},
   "source": [
    "#### Convertendo unidades "
   ]
  },
  {
   "cell_type": "code",
   "execution_count": 44,
   "metadata": {},
   "outputs": [],
   "source": [
    "saldo_tasy['QT_ESTOQUE'] = saldo_tasy['QT_ESTOQUE'].astype('str')"
   ]
  },
  {
   "cell_type": "code",
   "execution_count": 45,
   "metadata": {},
   "outputs": [],
   "source": [
    "saldo_tasy['QT_ESTOQUE'] = saldo_tasy['QT_ESTOQUE'].str.replace(',','.')"
   ]
  },
  {
   "cell_type": "code",
   "execution_count": 46,
   "metadata": {},
   "outputs": [],
   "source": [
    "saldo_tasy['QT_ESTOQUE'] = pd.to_numeric(saldo_tasy['QT_ESTOQUE'])"
   ]
  },
  {
   "cell_type": "code",
   "execution_count": 47,
   "metadata": {},
   "outputs": [],
   "source": [
    "saldo_tasy['VL_CUSTO_MEDIO'] = saldo_tasy['VL_CUSTO_MEDIO'].astype('str')"
   ]
  },
  {
   "cell_type": "code",
   "execution_count": 48,
   "metadata": {},
   "outputs": [],
   "source": [
    "saldo_tasy['VL_CUSTO_MEDIO'] = saldo_tasy['VL_CUSTO_MEDIO'].str.replace(',','.')"
   ]
  },
  {
   "cell_type": "code",
   "execution_count": 49,
   "metadata": {},
   "outputs": [],
   "source": [
    "saldo_tasy['VL_CUSTO_MEDIO'] = saldo_tasy['VL_CUSTO_MEDIO'].str.replace('nan','0')"
   ]
  },
  {
   "cell_type": "code",
   "execution_count": 50,
   "metadata": {},
   "outputs": [],
   "source": [
    "saldo_tasy['VL_CUSTO_MEDIO'] = pd.to_numeric(saldo_tasy['VL_CUSTO_MEDIO'])"
   ]
  },
  {
   "cell_type": "markdown",
   "metadata": {},
   "source": [
    "#### Merging em base_avg_std"
   ]
  },
  {
   "cell_type": "code",
   "execution_count": 51,
   "metadata": {},
   "outputs": [],
   "source": [
    "colunas = ['Base',\n",
    "           'NM_FANTASIA_ESTAB',\n",
    "           'CD_MATERIAL',\n",
    "           'DS_REDUZIDA',\n",
    "           'FAMILIA_PADRAO',\n",
    "           'CLASSE_MATERIAL',\n",
    "           'SUBGRUPO',\n",
    "           'GRUPO']"
   ]
  },
  {
   "cell_type": "code",
   "execution_count": 52,
   "metadata": {},
   "outputs": [],
   "source": [
    "saldo_tasy['VALOR_ESTOQUE_ATUAL'] = saldo_tasy['QT_ESTOQUE'] * saldo_tasy['VL_CUSTO_MEDIO']"
   ]
  },
  {
   "cell_type": "code",
   "execution_count": 53,
   "metadata": {},
   "outputs": [],
   "source": [
    "saldo_cons_tasy = saldo_tasy.pivot_table(index = colunas,\n",
    "                                            values = ['QT_ESTOQUE',\n",
    "                                                     'VALOR_ESTOQUE_ATUAL'],\n",
    "                                            aggfunc = sum)\n",
    "saldo_cons_tasy.reset_index(inplace=True)"
   ]
  },
  {
   "cell_type": "code",
   "execution_count": 54,
   "metadata": {},
   "outputs": [],
   "source": [
    "base_avg_std_tasy = base_avg_std_tasy.merge(saldo_cons_tasy, how ='outer', on= colunas) "
   ]
  },
  {
   "cell_type": "code",
   "execution_count": 55,
   "metadata": {},
   "outputs": [],
   "source": [
    "base_avg_std_tasy.fillna(0, inplace = True)"
   ]
  },
  {
   "cell_type": "markdown",
   "metadata": {},
   "source": [
    "#### Cálculo de dias de estoques "
   ]
  },
  {
   "cell_type": "code",
   "execution_count": 56,
   "metadata": {},
   "outputs": [],
   "source": [
    "base_avg_std_tasy['DOH'] = base_avg_std_tasy ['QT_ESTOQUE'] / base_avg_std_tasy['QT_MOV_MEAN']"
   ]
  },
  {
   "cell_type": "code",
   "execution_count": 57,
   "metadata": {},
   "outputs": [],
   "source": [
    "base_avg_std_tasy.replace(np.inf, \"Sem consumo\",inplace = True)"
   ]
  },
  {
   "cell_type": "markdown",
   "metadata": {},
   "source": [
    "#### Criando curva ABC "
   ]
  },
  {
   "cell_type": "code",
   "execution_count": 58,
   "metadata": {},
   "outputs": [],
   "source": [
    "aux = base_avg_std_tasy[['NM_FANTASIA_ESTAB','CD_MATERIAL','VALOR_MOV_SUM']]"
   ]
  },
  {
   "cell_type": "code",
   "execution_count": 59,
   "metadata": {},
   "outputs": [],
   "source": [
    "aux_2 = aux.pivot_table(index = ['NM_FANTASIA_ESTAB',\n",
    "                                 'CD_MATERIAL'],\n",
    "                        columns = ['NM_FANTASIA_ESTAB'],\n",
    "                        values = 'VALOR_MOV_SUM',\n",
    "                        aggfunc = sum)\n",
    "\n",
    "aux_2 = pd.DataFrame(aux_2.to_records())\n",
    "aux_2.fillna(0, inplace = True)"
   ]
  },
  {
   "cell_type": "code",
   "execution_count": 60,
   "metadata": {},
   "outputs": [],
   "source": [
    "lista_estab = base_avg_std_tasy.NM_FANTASIA_ESTAB.drop_duplicates().reset_index(drop = True)"
   ]
  },
  {
   "cell_type": "code",
   "execution_count": 61,
   "metadata": {},
   "outputs": [],
   "source": [
    "colunas_aux_2 = aux_2.columns.tolist()\n",
    "colunas_aux_2.remove('CD_MATERIAL')"
   ]
  },
  {
   "cell_type": "code",
   "execution_count": 62,
   "metadata": {},
   "outputs": [],
   "source": [
    "aux_2.sort_values(by = colunas_aux_2,ascending = False, inplace = True)"
   ]
  },
  {
   "cell_type": "code",
   "execution_count": 63,
   "metadata": {},
   "outputs": [],
   "source": [
    "auxiliar_2 = []\n",
    "for x in lista_estab:\n",
    "    auxiliar = x + \" CUMSUM\"\n",
    "    auxiliar_2.append(auxiliar)\n",
    "    aux_2[auxiliar] = aux_2[x].cumsum()"
   ]
  },
  {
   "cell_type": "code",
   "execution_count": 64,
   "metadata": {},
   "outputs": [],
   "source": [
    "aux_2['AUX CUM SUM'] = aux_2['NM_FANTASIA_ESTAB']+ \" CUMSUM\""
   ]
  },
  {
   "cell_type": "code",
   "execution_count": 65,
   "metadata": {},
   "outputs": [],
   "source": [
    "aux_2['CUM SUM'] = aux_2.apply(lambda row: row[row['AUX CUM SUM']], axis = 1)"
   ]
  },
  {
   "cell_type": "code",
   "execution_count": 66,
   "metadata": {},
   "outputs": [],
   "source": [
    "aux = pd.DataFrame(aux.pivot_table(index = ['NM_FANTASIA_ESTAB'],\n",
    "                                   values = 'VALOR_MOV_SUM',\n",
    "                                   aggfunc = sum).to_records())"
   ]
  },
  {
   "cell_type": "code",
   "execution_count": 67,
   "metadata": {},
   "outputs": [],
   "source": [
    "aux_2 = aux_2.merge(aux, how = 'left', on = 'NM_FANTASIA_ESTAB')"
   ]
  },
  {
   "cell_type": "code",
   "execution_count": 68,
   "metadata": {},
   "outputs": [],
   "source": [
    "aux_2['PERC'] = aux_2['CUM SUM'] / aux_2['VALOR_MOV_SUM']"
   ]
  },
  {
   "cell_type": "code",
   "execution_count": 69,
   "metadata": {},
   "outputs": [],
   "source": [
    "def ABC_segmentation(perc):\n",
    "    '''\n",
    "    Creates the 3 classes A, B, and C based \n",
    "    on quantity percentages (A-60%, B-25%, C-15%)\n",
    "    '''\n",
    "    if perc > 0 and perc < 0.8:\n",
    "        return 'A'\n",
    "    elif perc >= 0.8 and perc < 0.95:\n",
    "        return 'B'\n",
    "    elif perc >= 0.95:\n",
    "        return 'C'"
   ]
  },
  {
   "cell_type": "code",
   "execution_count": 70,
   "metadata": {},
   "outputs": [],
   "source": [
    "aux_2['Class'] = aux_2['PERC'].apply(ABC_segmentation)"
   ]
  },
  {
   "cell_type": "code",
   "execution_count": 71,
   "metadata": {},
   "outputs": [],
   "source": [
    "aux_2 = aux_2 [['NM_FANTASIA_ESTAB','CD_MATERIAL', 'Class']]"
   ]
  },
  {
   "cell_type": "code",
   "execution_count": 72,
   "metadata": {},
   "outputs": [],
   "source": [
    "base_avg_std_tasy = base_avg_std_tasy.merge(aux_2,  how = 'left',on = ['NM_FANTASIA_ESTAB','CD_MATERIAL'])"
   ]
  },
  {
   "cell_type": "markdown",
   "metadata": {},
   "source": [
    "#### Criando Estoque de Segurança"
   ]
  },
  {
   "cell_type": "code",
   "execution_count": 73,
   "metadata": {},
   "outputs": [],
   "source": [
    "nvl_serv = dict({'A': 0.99, 'B':0.95,'C': 0.90})"
   ]
  },
  {
   "cell_type": "code",
   "execution_count": 74,
   "metadata": {},
   "outputs": [],
   "source": [
    "base_avg_std_tasy['NVL_SERV'] = base_avg_std_tasy.Class.map(nvl_serv)"
   ]
  },
  {
   "cell_type": "code",
   "execution_count": 75,
   "metadata": {},
   "outputs": [],
   "source": [
    "base_avg_std_tasy['Z'] = norm.ppf(base_avg_std_tasy.NVL_SERV)"
   ]
  },
  {
   "cell_type": "code",
   "execution_count": 76,
   "metadata": {},
   "outputs": [],
   "source": [
    "# LEAD TIME ---> AQUI IRÁ MUDAR\n",
    "\n",
    "lead_time = 7\n",
    "std_lt = math.sqrt(3)"
   ]
  },
  {
   "cell_type": "code",
   "execution_count": 77,
   "metadata": {},
   "outputs": [],
   "source": [
    "base_avg_std_tasy['safety_stock'] = base_avg_std_tasy['Z'] * np.sqrt(\n",
    "    (((base_avg_std_tasy['QT_MOV_STD']**2)*lead_time))+((std_lt**2)*(base_avg_std_tasy['QT_MOV_MEAN']**2)))"
   ]
  },
  {
   "cell_type": "code",
   "execution_count": 78,
   "metadata": {},
   "outputs": [],
   "source": [
    "base_avg_std_tasy.safety_stock = base_avg_std_tasy.safety_stock.round(0)"
   ]
  },
  {
   "cell_type": "markdown",
   "metadata": {},
   "source": [
    "#### Criando estoque Max e médio"
   ]
  },
  {
   "cell_type": "code",
   "execution_count": 79,
   "metadata": {},
   "outputs": [],
   "source": [
    "# Freq Pedido ---> AQUI IRÁ MUDAR\n",
    "\n",
    "freq_pedido = 15"
   ]
  },
  {
   "cell_type": "code",
   "execution_count": 80,
   "metadata": {},
   "outputs": [],
   "source": [
    "base_avg_std_tasy['Estoque_ciclo'] =  base_avg_std_tasy['QT_MOV_MEAN']*freq_pedido"
   ]
  },
  {
   "cell_type": "code",
   "execution_count": 81,
   "metadata": {},
   "outputs": [],
   "source": [
    "base_avg_std_tasy['Estoque_Medio'] = base_avg_std_tasy['safety_stock'] + (base_avg_std_tasy['Estoque_ciclo']/2) \n",
    "base_avg_std_tasy['Estoque_Medio'] = base_avg_std_tasy['Estoque_Medio'].round(0)"
   ]
  },
  {
   "cell_type": "code",
   "execution_count": 82,
   "metadata": {},
   "outputs": [],
   "source": [
    "base_avg_std_tasy['Estoque_Max'] = base_avg_std_tasy['safety_stock'] + (base_avg_std_tasy['Estoque_ciclo']) \n",
    "base_avg_std_tasy['Estoque_Max'] = base_avg_std_tasy['Estoque_Max'].round(0)"
   ]
  },
  {
   "cell_type": "code",
   "execution_count": 83,
   "metadata": {},
   "outputs": [],
   "source": [
    "base_avg_std_tasy['Pto_Pedido'] =  (base_avg_std_tasy['QT_MOV_MEAN']*lead_time) + base_avg_std_tasy['safety_stock']\n",
    "base_avg_std_tasy['Pto_Pedido'] = base_avg_std_tasy['Pto_Pedido'].round(0)"
   ]
  },
  {
   "cell_type": "markdown",
   "metadata": {},
   "source": [
    "### Calculando Stock-outs"
   ]
  },
  {
   "cell_type": "raw",
   "metadata": {},
   "source": [
    "def CONV_ENTRADA_SAIDA(IE_ENTRADA_SAIDA):\n",
    "    if IE_ENTRADA_SAIDA == 'E':\n",
    "        return 1\n",
    "    else:\n",
    "        return -1"
   ]
  },
  {
   "cell_type": "raw",
   "metadata": {},
   "source": [
    "mov_tasy['QT_CALC_SO'] = mov_tasy.IE_ENTRADA_SAIDA.apply(CONV_ENTRADA_SAIDA) * mov_tasy.QT_MOVIMENTO"
   ]
  },
  {
   "cell_type": "raw",
   "metadata": {},
   "source": [
    "colunas = ['Base',\n",
    "           'NM_FANTASIA_ESTAB',\n",
    "           'CD_MATERIAL',\n",
    "           'DS_REDUZIDA',\n",
    "           'FAMILIA_PADRAO',\n",
    "           'CLASSE_MATERIAL',\n",
    "           'SUBGRUPO',\n",
    "           'GRUPO',\n",
    "           'DT_MOVIMENTO_ESTOQUE']"
   ]
  },
  {
   "cell_type": "raw",
   "metadata": {},
   "source": [
    "base_SO_aux = mov_tasy.pivot_table(index = colunas, values = 'QT_CALC_SO', aggfunc = sum)"
   ]
  },
  {
   "cell_type": "raw",
   "metadata": {},
   "source": [
    "base_SO_aux.reset_index(inplace = True)"
   ]
  },
  {
   "cell_type": "raw",
   "metadata": {},
   "source": [
    "# Construindo base_SO\n",
    "\n",
    "lista_materiais['Aux'] = 'Auxiliar'\n",
    "ultimas_datas_tasy['Aux'] = 'Auxiliar'\n",
    "\n",
    "base_SO = lista_materiais.merge(ultimas_datas_tasy, how = 'outer', on=['Aux'])\n",
    "base_SO.drop(['Aux'],axis = 1,inplace=True)\n",
    "base_SO.fillna(0, inplace=True)"
   ]
  },
  {
   "cell_type": "raw",
   "metadata": {},
   "source": [
    "lista_SP = ['HCLOE - Itapeva 01-21',\n",
    "            'VISCLIN - Matriz Itaim - 01-03',\n",
    "            'VISCLIN - Filial Alphaville -  02-94',\n",
    "            'HCLOE - Vila Gomes (Tatuapé) 05-55',\n",
    "            'HCLOE - Vila São Francisco (Morumbi) - 07-17',\n",
    "            'SPEC - Perdizes',\n",
    "            'VISCLIN - Filial Vila Olimpia - 03-75']\n",
    "filtro_1 = base_SO.NM_FANTASIA_ESTAB.isin(lista_SP)\n",
    "filtro_2 = base_SO.Month == 12\n",
    "filtro = filtro_1 & filtro_2\n",
    "base_SO.drop(base_SO[filtro].index, inplace = True)"
   ]
  },
  {
   "cell_type": "raw",
   "metadata": {},
   "source": [
    "base_SO = base_SO.merge(base_SO_aux, on = colunas, how = 'left')"
   ]
  },
  {
   "cell_type": "raw",
   "metadata": {},
   "source": [
    "colunas_2 = ['Base',\n",
    "               'NM_FANTASIA_ESTAB',\n",
    "               'CD_MATERIAL',\n",
    "               'DS_REDUZIDA',\n",
    "               'FAMILIA_PADRAO',\n",
    "               'CLASSE_MATERIAL',\n",
    "               'SUBGRUPO',\n",
    "               'GRUPO']"
   ]
  },
  {
   "cell_type": "raw",
   "metadata": {},
   "source": [
    "base_SO = base_SO.merge(saldo_cons_tasy, how = 'left', on = colunas_2)"
   ]
  },
  {
   "cell_type": "raw",
   "metadata": {},
   "source": [
    "base_SO.QT_CALC_SO.fillna(0, inplace = True)"
   ]
  },
  {
   "cell_type": "raw",
   "metadata": {},
   "source": [
    "def DELTA_ESTOQUE(NM_FANTASIA_ESTAB, CD_MATERIAL, DT_MOVIMENTO_ESTOQUE):\n",
    "    filtro_1 = base_SO['NM_FANTASIA_ESTAB'] == NM_FANTASIA_ESTAB\n",
    "    filtro_2 = base_SO['CD_MATERIAL'] == CD_MATERIAL\n",
    "    filtro_3 = base_SO['DT_MOVIMENTO_ESTOQUE'] >= DT_MOVIMENTO_ESTOQUE\n",
    "    return base_SO[filtro_1 & filtro_2 & filtro_3].QT_CALC_SO.sum()"
   ]
  },
  {
   "cell_type": "raw",
   "metadata": {},
   "source": [
    "base_SO['DELTA_ESTOQUE'] = base_SO.apply(lambda x: DELTA_ESTOQUE(x.NM_FANTASIA_ESTAB,\n",
    "                                                                    x.CD_MATERIAL,\n",
    "                                                                    x.DT_MOVIMENTO_ESTOQUE), axis = 1)"
   ]
  },
  {
   "cell_type": "raw",
   "metadata": {},
   "source": [
    "base_SO['QT_ESTOQUE'].fillna(0, inplace = True)\n",
    "base_SO['DELTA_ESTOQUE'].fillna(0, inplace = True)"
   ]
  },
  {
   "cell_type": "raw",
   "metadata": {},
   "source": [
    "base_SO['ESTOQUE_DIARIO'] = base_SO['QT_ESTOQUE'] + base_SO['DELTA_ESTOQUE']  "
   ]
  },
  {
   "cell_type": "raw",
   "metadata": {},
   "source": [
    "base_SO_count_aux = base_SO[base_SO['ESTOQUE_DIARIO'] <= 0].copy()"
   ]
  },
  {
   "cell_type": "raw",
   "metadata": {},
   "source": [
    "base_SO_count = base_SO_count_aux.pivot_table(index = ['NM_FANTASIA_ESTAB',\n",
    "                                                       'CD_MATERIAL',\n",
    "                                                       'DS_REDUZIDA'],\n",
    "                                              values = ['GRUPO'],\n",
    "                                              aggfunc = 'count')\n",
    "base_SO_count.reset_index(inplace = True)"
   ]
  },
  {
   "cell_type": "raw",
   "metadata": {},
   "source": [
    "base_SO_count.columns = ['NM_FANTASIA_ESTAB',\n",
    "                         'CD_MATERIAL',\n",
    "                         'DS_REDUZIDA',\n",
    "                         'DIAS_SO']"
   ]
  },
  {
   "cell_type": "raw",
   "metadata": {},
   "source": [
    "base_avg_std_tasy = base_avg_std_tasy.merge(base_SO_count, how = 'left', on  = ['NM_FANTASIA_ESTAB',\n",
    "                                                                                'CD_MATERIAL',\n",
    "                                                                                'DS_REDUZIDA'])"
   ]
  },
  {
   "cell_type": "raw",
   "metadata": {},
   "source": [
    "base_avg_std_tasy['DIAS_SO'].fillna(0, inplace = True)"
   ]
  },
  {
   "cell_type": "raw",
   "metadata": {},
   "source": [
    "def CHECK_EST_MEDIO(Estoque_Medio):\n",
    "    if Estoque_Medio > 0:\n",
    "        return 1\n",
    "    else:\n",
    "        return 0"
   ]
  },
  {
   "cell_type": "raw",
   "metadata": {},
   "source": [
    "base_avg_std_tasy['CHECK_EST_MEDIO'] = base_avg_std_tasy['Estoque_Medio'].apply(CHECK_EST_MEDIO)"
   ]
  },
  {
   "cell_type": "raw",
   "metadata": {},
   "source": [
    "base_avg_std_tasy['QTD_SO'] = base_avg_std_tasy['DIAS_SO'] * base_avg_std_tasy['QT_MOV_MEAN']*base_avg_std_tasy['CHECK_EST_MEDIO']\n",
    "base_avg_std_tasy['VALOR_SO'] = base_avg_std_tasy['VL_CUSTO_MEDIO']*base_avg_std_tasy['QTD_SO']*base_avg_std_tasy['CHECK_EST_MEDIO']"
   ]
  },
  {
   "cell_type": "raw",
   "metadata": {},
   "source": [
    "# base_avg_std_tasy.to_excel('Base_Excel.xlsx')"
   ]
  },
  {
   "cell_type": "raw",
   "metadata": {},
   "source": [
    "base_avg_std_tasy['VALOR_SO'].sum() / base_avg_std_tasy['VALOR_MOV_SUM'].sum()"
   ]
  },
  {
   "cell_type": "markdown",
   "metadata": {},
   "source": [
    "## SMART"
   ]
  },
  {
   "cell_type": "markdown",
   "metadata": {},
   "source": [
    "### Criando bases de consumo "
   ]
  },
  {
   "cell_type": "markdown",
   "metadata": {},
   "source": [
    "#### Importando bases"
   ]
  },
  {
   "cell_type": "code",
   "execution_count": 84,
   "metadata": {},
   "outputs": [],
   "source": [
    "# Base IOF\n",
    "\n",
    "mov_IOF = pd.read_csv('Movimento_IOF.csv', encoding = 'utf-8')"
   ]
  },
  {
   "cell_type": "code",
   "execution_count": 85,
   "metadata": {},
   "outputs": [],
   "source": [
    "# Base Hols\n",
    "\n",
    "mov_Hosl = pd.read_csv('Movimento_Hosl.csv', encoding = 'utf-8')"
   ]
  },
  {
   "cell_type": "code",
   "execution_count": 86,
   "metadata": {},
   "outputs": [],
   "source": [
    "# Base Oftalmoclin\n",
    "\n",
    "mov_Oftalmoclin = pd.read_csv('Movimento_Oftalmoclin.csv', encoding = 'utf-8')"
   ]
  },
  {
   "cell_type": "code",
   "execution_count": 87,
   "metadata": {},
   "outputs": [],
   "source": [
    "# Base Itabuna\n",
    "\n",
    "mov_Itabuna = pd.read_csv('Movimento_Itabuna.csv', encoding = 'utf-8')"
   ]
  },
  {
   "cell_type": "code",
   "execution_count": 88,
   "metadata": {},
   "outputs": [],
   "source": [
    "# Base Itaigara\n",
    "\n",
    "mov_Itaigara = pd.read_csv('Movimento_Itaigara.csv', encoding = 'utf-8')"
   ]
  },
  {
   "cell_type": "markdown",
   "metadata": {},
   "source": [
    "#### Colocando coluna de base "
   ]
  },
  {
   "cell_type": "code",
   "execution_count": 89,
   "metadata": {},
   "outputs": [],
   "source": [
    "mov_IOF['Base'] = 'IOF'"
   ]
  },
  {
   "cell_type": "code",
   "execution_count": 90,
   "metadata": {},
   "outputs": [],
   "source": [
    "mov_Hosl['Base'] = 'Hosl'"
   ]
  },
  {
   "cell_type": "code",
   "execution_count": 91,
   "metadata": {},
   "outputs": [],
   "source": [
    "mov_Oftalmoclin['Base'] = 'Oftalmoclin'"
   ]
  },
  {
   "cell_type": "code",
   "execution_count": 92,
   "metadata": {},
   "outputs": [],
   "source": [
    "mov_Itabuna['Base'] = 'Itabuna'"
   ]
  },
  {
   "cell_type": "code",
   "execution_count": 93,
   "metadata": {},
   "outputs": [],
   "source": [
    "mov_Itaigara['Base'] = 'Itaigara'"
   ]
  },
  {
   "cell_type": "markdown",
   "metadata": {},
   "source": [
    "#### Corrigindo informações iniciais"
   ]
  },
  {
   "cell_type": "code",
   "execution_count": 94,
   "metadata": {},
   "outputs": [],
   "source": [
    "mov_Oftalmoclin['str_nome'].fillna('OFT BARRIS', inplace = True)"
   ]
  },
  {
   "cell_type": "code",
   "execution_count": 95,
   "metadata": {},
   "outputs": [],
   "source": [
    "mov_Itaigara.str_nome.fillna('DayHORC - HBA', inplace = True)"
   ]
  },
  {
   "cell_type": "code",
   "execution_count": 96,
   "metadata": {},
   "outputs": [],
   "source": [
    "# Consertando tmm_descr em Itabuna\n",
    "\n",
    "de_para = pd.DataFrame(mov_IOF[['MMA_TIPO_OPERACAO','tmm_descr', 'tmm_tipo']].drop_duplicates()).copy()\n",
    "mov_Itabuna = mov_Itabuna.merge(de_para, how = 'left', on='MMA_TIPO_OPERACAO')"
   ]
  },
  {
   "cell_type": "code",
   "execution_count": 97,
   "metadata": {},
   "outputs": [],
   "source": [
    "mov_Itabuna = mov_Itabuna[['MMA_TIPO_OPERACAO',\n",
    "                           'mma_data_mov',\n",
    "                           'MMA_SBA_COD',\n",
    "                           'sba_nome',\n",
    "                           'str_nome',\n",
    "                           'mma_mat_cod',\n",
    "                           'mma_ism_seq',\n",
    "                           'MMA_ISM_SEQ',\n",
    "                           'mma_lot_num',\n",
    "                           'gmm_nome',\n",
    "                           'fne_nome_fantasia',\n",
    "                           'mat_desc_resumida',                           \n",
    "                           'tmm_descr_y',\n",
    "                           'tmm_tipo_y',\n",
    "                           'mma_qtd',\n",
    "                           'mma_valor',\n",
    "                           'Base']]"
   ]
  },
  {
   "cell_type": "code",
   "execution_count": 98,
   "metadata": {},
   "outputs": [],
   "source": [
    "mov_Itabuna.columns = ['MMA_TIPO_OPERACAO',\n",
    "                       'mma_data_mov',\n",
    "                       'MMA_SBA_COD',\n",
    "                       'sba_nome',\n",
    "                       'str_nome',\n",
    "                       'mma_mat_cod',\n",
    "                       'mma_ism_seq',\n",
    "                       'MMA_ISM_SEQ',\n",
    "                       'mma_lot_num',\n",
    "                       'gmm_nome',\n",
    "                       'fne_nome_fantasia',\n",
    "                       'mat_desc_resumida',\n",
    "                       'tmm_descr',\n",
    "                       'tmm_tipo',\n",
    "                       'mma_qtd',\n",
    "                       'mma_valor',\n",
    "                       'Base']"
   ]
  },
  {
   "cell_type": "markdown",
   "metadata": {},
   "source": [
    "#### Unindo bases "
   ]
  },
  {
   "cell_type": "code",
   "execution_count": 99,
   "metadata": {},
   "outputs": [],
   "source": [
    "mov_smart = mov_IOF.append(mov_Hosl).append(mov_Oftalmoclin).append(mov_Itabuna).append(mov_Itaigara)"
   ]
  },
  {
   "cell_type": "markdown",
   "metadata": {},
   "source": [
    "#### Manipulação base de dados "
   ]
  },
  {
   "cell_type": "code",
   "execution_count": 100,
   "metadata": {},
   "outputs": [],
   "source": [
    "mov_smart.mma_data_mov = pd.to_datetime(mov_smart.mma_data_mov).dt.normalize()"
   ]
  },
  {
   "cell_type": "code",
   "execution_count": 101,
   "metadata": {},
   "outputs": [],
   "source": [
    "mov_smart['mma_qtd'] = mov_smart['mma_qtd'].astype('str')"
   ]
  },
  {
   "cell_type": "code",
   "execution_count": 102,
   "metadata": {},
   "outputs": [],
   "source": [
    "mov_smart['mma_qtd'] = mov_smart['mma_qtd'].str.replace(',','.')"
   ]
  },
  {
   "cell_type": "code",
   "execution_count": 103,
   "metadata": {},
   "outputs": [],
   "source": [
    "mov_smart['mma_qtd'] = pd.to_numeric(mov_smart['mma_qtd'])"
   ]
  },
  {
   "cell_type": "code",
   "execution_count": 104,
   "metadata": {},
   "outputs": [],
   "source": [
    "mov_smart['mma_valor'] = mov_smart['mma_valor'].str.replace(',','.')"
   ]
  },
  {
   "cell_type": "code",
   "execution_count": 105,
   "metadata": {},
   "outputs": [],
   "source": [
    "mov_smart['mma_valor'] = pd.to_numeric(mov_smart['mma_valor'])"
   ]
  },
  {
   "cell_type": "code",
   "execution_count": 106,
   "metadata": {},
   "outputs": [],
   "source": [
    "mov_smart['mma_qtd'].fillna(0, inplace = True)\n",
    "mov_smart['mma_valor'].fillna(0, inplace = True)"
   ]
  },
  {
   "cell_type": "code",
   "execution_count": 107,
   "metadata": {},
   "outputs": [],
   "source": [
    "mov_smart.fillna('N/A', inplace = True)"
   ]
  },
  {
   "cell_type": "markdown",
   "metadata": {},
   "source": [
    "#### Colocando devolução de consumo"
   ]
  },
  {
   "cell_type": "code",
   "execution_count": 108,
   "metadata": {},
   "outputs": [],
   "source": [
    "def Dev_Consumo_2(dado):\n",
    "    if dado == 'Entrada por Estorno de Aplica+Æo':\n",
    "        return -1\n",
    "    elif dado == 'Entrada por Estorno de Aplicacao':\n",
    "        return -1\n",
    "    elif  dado == 'Entrada por Estorno de Aplicação':\n",
    "        return -1\n",
    "    else:\n",
    "        return 1"
   ]
  },
  {
   "cell_type": "code",
   "execution_count": 109,
   "metadata": {},
   "outputs": [],
   "source": [
    "mov_smart['mma_qtd'] = mov_smart['tmm_descr'].apply(Dev_Consumo_2)*mov_smart['mma_qtd']"
   ]
  },
  {
   "cell_type": "code",
   "execution_count": 110,
   "metadata": {},
   "outputs": [],
   "source": [
    "mov_smart['mma_valor'] = mov_smart['tmm_descr'].apply(Dev_Consumo_2)*mov_smart['mma_valor']"
   ]
  },
  {
   "cell_type": "markdown",
   "metadata": {},
   "source": [
    "#### Base de Consumo"
   ]
  },
  {
   "cell_type": "code",
   "execution_count": 111,
   "metadata": {},
   "outputs": [],
   "source": [
    "# Descrições de consumo\n",
    "\n",
    "lista_consumo_smart =['Entrada por Estorno de Aplica+Æo',\n",
    "                      'Entrada por Estorno de Aplicacao',\n",
    "                      'Entrada por Estorno de Aplicação',\n",
    "                      'Sa¡da de Estoque para Aplica+Æo (Consumo de Paciente)',\n",
    "                      'Sa¡da de Estoque para Aplica+Æo (Consumo Interno)',\n",
    "                      'Sa¡da de Estoque para Aplicação (Consumo Interno)',\n",
    "                      'Saida de Estoque para Aplicacao (Consumo Interno)',\n",
    "                      'Saida de Estoque para Aplicacao (Consumo de Paciente)',\n",
    "                      'Saída de Estoque para Aplicação(Consumo Interno)',\n",
    "                      'Saída de Estoque para Aplicação (Consumo de Paciente)',\n",
    "                     'Sa¡da por Transforma+Æo']                   \n",
    "                     "
   ]
  },
  {
   "cell_type": "code",
   "execution_count": 112,
   "metadata": {},
   "outputs": [],
   "source": [
    "# Filtro últimos 90 dias\n",
    "\n",
    "today = datetime.date(2021, 3, 2)\n",
    "filter_today = str(today)\n",
    "last_ninety_days = today - dt.timedelta(days=90)\n",
    "filter_days = str(last_ninety_days)"
   ]
  },
  {
   "cell_type": "code",
   "execution_count": 113,
   "metadata": {},
   "outputs": [],
   "source": [
    "# Filtrando e criando a base\n",
    "\n",
    "consumo_smart = mov_smart[mov_smart.tmm_descr.isin(lista_consumo_smart)]\n",
    "consumo_smart = consumo_smart[consumo_smart['mma_data_mov'] >= filter_days]\n",
    "consumo_smart = consumo_smart[consumo_smart['mma_data_mov'] < filter_today]"
   ]
  },
  {
   "cell_type": "code",
   "execution_count": 114,
   "metadata": {},
   "outputs": [],
   "source": [
    "base = today\n",
    "numdays = 90\n",
    "date_list = [base - datetime.timedelta(days=x) for x in range(numdays)]\n",
    "ultimas_datas_smart = pd.DataFrame(date_list)"
   ]
  },
  {
   "cell_type": "code",
   "execution_count": 115,
   "metadata": {},
   "outputs": [],
   "source": [
    "# Ultimas datas\n",
    "\n",
    "ultimas_datas_smart.columns = ['mma_data_mov']\n",
    "ultimas_datas_smart.mma_data_mov = pd.to_datetime(ultimas_datas_smart.mma_data_mov)\n",
    "ultimas_datas_smart.sort_values(by = 'mma_data_mov', ascending = True, inplace = True)"
   ]
  },
  {
   "cell_type": "code",
   "execution_count": 116,
   "metadata": {},
   "outputs": [],
   "source": [
    "# Criando Lista de Materiais\n",
    "\n",
    "Colunas_filtro = ['Base',\n",
    "                  'str_nome',\n",
    "                  'mma_mat_cod',\n",
    "                  'mat_desc_resumida',\n",
    "                  'gmm_nome']\n",
    "lista_materiais = consumo_smart[Colunas_filtro].copy()\n",
    "lista_materiais.drop_duplicates(inplace=True)"
   ]
  },
  {
   "cell_type": "code",
   "execution_count": 117,
   "metadata": {},
   "outputs": [],
   "source": [
    "# Construindo base_consumo_smart\n",
    "\n",
    "lista_materiais['Aux'] = 'Auxiliar'\n",
    "ultimas_datas_smart['Aux'] = 'Auxiliar'\n",
    "\n",
    "base_consumo_smart = lista_materiais.merge(ultimas_datas_smart, how = 'outer', on=['Aux'])\n",
    "base_consumo_smart.drop(['Aux'],axis = 1,inplace=True)\n",
    "base_consumo_smart.fillna(0, inplace=True)"
   ]
  },
  {
   "cell_type": "code",
   "execution_count": 118,
   "metadata": {},
   "outputs": [],
   "source": [
    "# Consumo diário\n",
    "consumo_diario_smart = consumo_smart.pivot_table(index = ['Base',\n",
    "                                                          'str_nome',\n",
    "                                                          'mma_mat_cod',\n",
    "                                                          'mat_desc_resumida',\n",
    "                                                          'gmm_nome',\n",
    "                                                          'mma_data_mov'],\n",
    "                                          values = ['mma_qtd',\n",
    "                                                   'mma_valor'],\n",
    "                                          aggfunc = {'mma_qtd': sum,\n",
    "                                                     'mma_valor': sum})\n",
    "consumo_diario_smart = consumo_diario_smart.reset_index()"
   ]
  },
  {
   "cell_type": "code",
   "execution_count": 119,
   "metadata": {},
   "outputs": [],
   "source": [
    "# finalizando\n",
    "base_consumo_smart = base_consumo_smart.merge(consumo_diario_smart,\n",
    "                                                how = 'left',\n",
    "                                                on = ['Base',\n",
    "                                                      'str_nome',\n",
    "                                                      'mma_mat_cod',\n",
    "                                                      'mat_desc_resumida',\n",
    "                                                      'gmm_nome',\n",
    "                                                      'mma_data_mov'])"
   ]
  },
  {
   "cell_type": "markdown",
   "metadata": {},
   "source": [
    "#### Encontrando Média diária e Desvio Padrão "
   ]
  },
  {
   "cell_type": "code",
   "execution_count": 120,
   "metadata": {},
   "outputs": [],
   "source": [
    "base_consumo_smart.fillna(0, inplace=True)"
   ]
  },
  {
   "cell_type": "code",
   "execution_count": 121,
   "metadata": {},
   "outputs": [],
   "source": [
    "base_avg_std_smart = base_consumo_smart.pivot_table(index = ['Base',\n",
    "                                                             'str_nome',\n",
    "                                                             'mma_mat_cod',\n",
    "                                                             'mat_desc_resumida',\n",
    "                                                             'gmm_nome'],\n",
    "                                                    values = ['mma_qtd','mma_valor'],\n",
    "                                                    aggfunc = {'mma_qtd': [np.mean, np.std, sum],\n",
    "                                                               'mma_valor': sum})"
   ]
  },
  {
   "cell_type": "code",
   "execution_count": 122,
   "metadata": {},
   "outputs": [],
   "source": [
    "# Reset index\n",
    "\n",
    "base_avg_std_smart.reset_index(inplace=True)"
   ]
  },
  {
   "cell_type": "code",
   "execution_count": 123,
   "metadata": {},
   "outputs": [],
   "source": [
    "base_avg_std_smart.columns = ['Base',\n",
    "                             'NM_FANTASIA_ESTAB',\n",
    "                             'CD_MATERIAL',\n",
    "                             'DS_REDUZIDA',\n",
    "                             'GRUPO',\n",
    "                             'QT_MOV_MEAN',\n",
    "                             'QT_MOV_STD',\n",
    "                             'QT_MOV_SUM',\n",
    "                             'VALOR_MOV_SUM']"
   ]
  },
  {
   "cell_type": "markdown",
   "metadata": {},
   "source": [
    "### Cálculo de Política de estoques"
   ]
  },
  {
   "cell_type": "markdown",
   "metadata": {},
   "source": [
    "#### Importando Saldo "
   ]
  },
  {
   "cell_type": "code",
   "execution_count": 124,
   "metadata": {},
   "outputs": [],
   "source": [
    "saldo_IOF = pd.read_csv('Saldo_IOF.csv', encoding = 'utf-8')"
   ]
  },
  {
   "cell_type": "code",
   "execution_count": 125,
   "metadata": {},
   "outputs": [],
   "source": [
    "saldo_Hosl = pd.read_csv('Saldo_Hosl.csv', encoding = 'utf-8')"
   ]
  },
  {
   "cell_type": "code",
   "execution_count": 126,
   "metadata": {},
   "outputs": [],
   "source": [
    "saldo_Oftalmoclin = pd.read_csv('Saldo_Oftalmoclin.csv', encoding = 'utf-8')"
   ]
  },
  {
   "cell_type": "code",
   "execution_count": 127,
   "metadata": {},
   "outputs": [],
   "source": [
    "saldo_Itabuna = pd.read_csv('Saldo_Itabuna.csv', encoding = 'utf-8')"
   ]
  },
  {
   "cell_type": "code",
   "execution_count": 128,
   "metadata": {},
   "outputs": [],
   "source": [
    "saldo_Itaigara = pd.read_csv('Saldo_Itaigara.csv', encoding = 'utf-8')"
   ]
  },
  {
   "cell_type": "markdown",
   "metadata": {},
   "source": [
    "#### Inserindo base "
   ]
  },
  {
   "cell_type": "code",
   "execution_count": 129,
   "metadata": {},
   "outputs": [],
   "source": [
    "saldo_IOF['Base'] = 'IOF'"
   ]
  },
  {
   "cell_type": "code",
   "execution_count": 130,
   "metadata": {},
   "outputs": [],
   "source": [
    "saldo_Hosl['Base'] = 'Hosl'"
   ]
  },
  {
   "cell_type": "code",
   "execution_count": 131,
   "metadata": {},
   "outputs": [],
   "source": [
    "saldo_Oftalmoclin['Base'] = 'Oftalmoclin'"
   ]
  },
  {
   "cell_type": "code",
   "execution_count": 132,
   "metadata": {},
   "outputs": [],
   "source": [
    "saldo_Itabuna['Base'] = 'Itabuna'"
   ]
  },
  {
   "cell_type": "code",
   "execution_count": 133,
   "metadata": {},
   "outputs": [],
   "source": [
    "saldo_Itaigara['Base'] = 'Itaigara'"
   ]
  },
  {
   "cell_type": "code",
   "execution_count": 134,
   "metadata": {},
   "outputs": [],
   "source": [
    "saldo_Oftalmoclin['str_nome'].fillna('OFT BARRIS', inplace = True)"
   ]
  },
  {
   "cell_type": "code",
   "execution_count": 135,
   "metadata": {},
   "outputs": [],
   "source": [
    "saldo_Itaigara.str_nome.fillna('DayHORC - HBA', inplace = True)"
   ]
  },
  {
   "cell_type": "markdown",
   "metadata": {},
   "source": [
    "#### Merging ambas tabelas\n"
   ]
  },
  {
   "cell_type": "code",
   "execution_count": 136,
   "metadata": {},
   "outputs": [],
   "source": [
    "saldo_smart = saldo_IOF.append(saldo_Hosl).append(saldo_Oftalmoclin).append(saldo_Itabuna).append(saldo_Itaigara)"
   ]
  },
  {
   "cell_type": "markdown",
   "metadata": {},
   "source": [
    "#### Convertendo unidades "
   ]
  },
  {
   "cell_type": "code",
   "execution_count": 137,
   "metadata": {},
   "outputs": [],
   "source": [
    "saldo_smart['ETQ_QUANTIDADE'] = saldo_smart['ETQ_QUANTIDADE'].astype('str')"
   ]
  },
  {
   "cell_type": "code",
   "execution_count": 138,
   "metadata": {},
   "outputs": [],
   "source": [
    "saldo_smart['ETQ_QUANTIDADE'] = saldo_smart['ETQ_QUANTIDADE'].str.replace(',','.')"
   ]
  },
  {
   "cell_type": "code",
   "execution_count": 139,
   "metadata": {},
   "outputs": [],
   "source": [
    "saldo_smart['ETQ_QUANTIDADE'] = pd.to_numeric(saldo_smart['ETQ_QUANTIDADE'])"
   ]
  },
  {
   "cell_type": "code",
   "execution_count": 140,
   "metadata": {},
   "outputs": [],
   "source": [
    "saldo_smart['ETQ_CML_PRECO_MEDIO'] = saldo_smart['ETQ_CML_PRECO_MEDIO'].astype('str')"
   ]
  },
  {
   "cell_type": "code",
   "execution_count": 141,
   "metadata": {},
   "outputs": [],
   "source": [
    "saldo_smart['ETQ_CML_PRECO_MEDIO'] = saldo_smart['ETQ_CML_PRECO_MEDIO'].str.replace(',','.')"
   ]
  },
  {
   "cell_type": "code",
   "execution_count": 142,
   "metadata": {},
   "outputs": [],
   "source": [
    "saldo_smart['ETQ_CML_PRECO_MEDIO'].replace(\"nan\",0, inplace = True)"
   ]
  },
  {
   "cell_type": "code",
   "execution_count": 143,
   "metadata": {},
   "outputs": [],
   "source": [
    "saldo_smart['ETQ_CML_PRECO_MEDIO'] = pd.to_numeric(saldo_smart['ETQ_CML_PRECO_MEDIO'])"
   ]
  },
  {
   "cell_type": "markdown",
   "metadata": {},
   "source": [
    "#### Merging em base_avg_std"
   ]
  },
  {
   "cell_type": "code",
   "execution_count": 144,
   "metadata": {},
   "outputs": [],
   "source": [
    "colunas = ['Base',\n",
    "           'str_nome',\n",
    "           'ETQ_MAT_COD',\n",
    "           'mat_desc_resumida',\n",
    "           'gmm_nome']"
   ]
  },
  {
   "cell_type": "code",
   "execution_count": 145,
   "metadata": {},
   "outputs": [],
   "source": [
    "saldo_smart['VALOR_ESTOQUE_ATUAL'] = saldo_smart.ETQ_QUANTIDADE * saldo_smart.ETQ_CML_PRECO_MEDIO"
   ]
  },
  {
   "cell_type": "code",
   "execution_count": 146,
   "metadata": {},
   "outputs": [],
   "source": [
    "saldo_smart.fillna(\"N/A\", inplace = True)"
   ]
  },
  {
   "cell_type": "code",
   "execution_count": 147,
   "metadata": {},
   "outputs": [],
   "source": [
    "saldo_cons_smart = saldo_smart.pivot_table(index = colunas,\n",
    "                                            values = ['ETQ_QUANTIDADE',\n",
    "                                                     'VALOR_ESTOQUE_ATUAL'],\n",
    "                                            aggfunc = sum)\n",
    "saldo_cons_smart.reset_index(inplace=True)"
   ]
  },
  {
   "cell_type": "code",
   "execution_count": 148,
   "metadata": {},
   "outputs": [
    {
     "data": {
      "text/plain": [
       "3752525.682283554"
      ]
     },
     "execution_count": 148,
     "metadata": {},
     "output_type": "execute_result"
    }
   ],
   "source": [
    "saldo_cons_smart.VALOR_ESTOQUE_ATUAL.sum()"
   ]
  },
  {
   "cell_type": "code",
   "execution_count": 149,
   "metadata": {},
   "outputs": [],
   "source": [
    "saldo_cons_smart.columns = ['Base',\n",
    "                             'NM_FANTASIA_ESTAB',\n",
    "                             'CD_MATERIAL',\n",
    "                             'DS_REDUZIDA',\n",
    "                             'GRUPO',\n",
    "                            'QT_ESTOQUE',\n",
    "                            'VALOR_ESTOQUE_ATUAL']"
   ]
  },
  {
   "cell_type": "code",
   "execution_count": 150,
   "metadata": {},
   "outputs": [],
   "source": [
    "base_avg_std_smart = base_avg_std_smart.merge(saldo_cons_smart,\n",
    "                                              how ='outer',\n",
    "                                              on= ['Base',\n",
    "                                                   'NM_FANTASIA_ESTAB',\n",
    "                                                   'CD_MATERIAL',\n",
    "                                                   'DS_REDUZIDA',\n",
    "                                                   'GRUPO']) "
   ]
  },
  {
   "cell_type": "code",
   "execution_count": 151,
   "metadata": {},
   "outputs": [
    {
     "data": {
      "text/plain": [
       "3752525.6822835547"
      ]
     },
     "execution_count": 151,
     "metadata": {},
     "output_type": "execute_result"
    }
   ],
   "source": [
    "base_avg_std_smart.VALOR_ESTOQUE_ATUAL.sum()"
   ]
  },
  {
   "cell_type": "code",
   "execution_count": 152,
   "metadata": {},
   "outputs": [],
   "source": [
    "base_avg_std_smart.fillna(0, inplace = True)"
   ]
  },
  {
   "cell_type": "markdown",
   "metadata": {},
   "source": [
    "#### Cálculo de dias de estoques "
   ]
  },
  {
   "cell_type": "code",
   "execution_count": 153,
   "metadata": {},
   "outputs": [],
   "source": [
    "base_avg_std_smart['DOH'] = base_avg_std_smart ['QT_ESTOQUE'] / base_avg_std_smart['QT_MOV_MEAN']"
   ]
  },
  {
   "cell_type": "code",
   "execution_count": 154,
   "metadata": {},
   "outputs": [],
   "source": [
    "base_avg_std_smart.replace(np.inf, \"Sem consumo\",inplace = True)"
   ]
  },
  {
   "cell_type": "markdown",
   "metadata": {},
   "source": [
    "#### Criando curva ABC "
   ]
  },
  {
   "cell_type": "code",
   "execution_count": 155,
   "metadata": {},
   "outputs": [],
   "source": [
    "aux = base_avg_std_smart[['NM_FANTASIA_ESTAB','CD_MATERIAL','VALOR_MOV_SUM']]"
   ]
  },
  {
   "cell_type": "code",
   "execution_count": 156,
   "metadata": {},
   "outputs": [],
   "source": [
    "aux_2 = aux.pivot_table(index = ['NM_FANTASIA_ESTAB',\n",
    "                                 'CD_MATERIAL'],\n",
    "                        columns = ['NM_FANTASIA_ESTAB'],\n",
    "                        values = 'VALOR_MOV_SUM',\n",
    "                        aggfunc = sum)\n",
    "\n",
    "aux_2 = pd.DataFrame(aux_2.to_records())\n",
    "aux_2.fillna(0, inplace = True)"
   ]
  },
  {
   "cell_type": "code",
   "execution_count": 157,
   "metadata": {},
   "outputs": [],
   "source": [
    "lista_estab = base_avg_std_smart.NM_FANTASIA_ESTAB.drop_duplicates().reset_index(drop = True)"
   ]
  },
  {
   "cell_type": "code",
   "execution_count": 158,
   "metadata": {},
   "outputs": [],
   "source": [
    "colunas_aux_2 = aux_2.columns.tolist()\n",
    "colunas_aux_2.remove('CD_MATERIAL')"
   ]
  },
  {
   "cell_type": "code",
   "execution_count": 159,
   "metadata": {},
   "outputs": [],
   "source": [
    "aux_2.sort_values(by = colunas_aux_2,ascending = False, inplace = True)"
   ]
  },
  {
   "cell_type": "code",
   "execution_count": 160,
   "metadata": {},
   "outputs": [],
   "source": [
    "auxiliar_2 = []\n",
    "for x in lista_estab:\n",
    "    auxiliar = x + \" CUMSUM\"\n",
    "    auxiliar_2.append(auxiliar)\n",
    "    aux_2[auxiliar] = aux_2[x].cumsum()"
   ]
  },
  {
   "cell_type": "code",
   "execution_count": 161,
   "metadata": {},
   "outputs": [],
   "source": [
    "aux_2['AUX CUM SUM'] = aux_2['NM_FANTASIA_ESTAB']+ \" CUMSUM\""
   ]
  },
  {
   "cell_type": "code",
   "execution_count": 162,
   "metadata": {},
   "outputs": [],
   "source": [
    "aux_2['CUM SUM'] = aux_2.apply(lambda row: row[row['AUX CUM SUM']], axis = 1)"
   ]
  },
  {
   "cell_type": "code",
   "execution_count": 163,
   "metadata": {},
   "outputs": [],
   "source": [
    "aux = pd.DataFrame(aux.pivot_table(index = ['NM_FANTASIA_ESTAB'],\n",
    "                                   values = 'VALOR_MOV_SUM',\n",
    "                                   aggfunc = sum).to_records())"
   ]
  },
  {
   "cell_type": "code",
   "execution_count": 164,
   "metadata": {},
   "outputs": [],
   "source": [
    "aux_2 = aux_2.merge(aux, how = 'left', on = 'NM_FANTASIA_ESTAB')"
   ]
  },
  {
   "cell_type": "code",
   "execution_count": 165,
   "metadata": {},
   "outputs": [],
   "source": [
    "aux_2['PERC'] = aux_2['CUM SUM'] / aux_2['VALOR_MOV_SUM']"
   ]
  },
  {
   "cell_type": "code",
   "execution_count": 166,
   "metadata": {},
   "outputs": [],
   "source": [
    "def ABC_segmentation(perc):\n",
    "    '''\n",
    "    Creates the 3 classes A, B, and C based \n",
    "    on quantity percentages (A-60%, B-25%, C-15%)\n",
    "    '''\n",
    "    if perc > 0 and perc < 0.8:\n",
    "        return 'A'\n",
    "    elif perc >= 0.8 and perc < 0.95:\n",
    "        return 'B'\n",
    "    elif perc >= 0.95:\n",
    "        return 'C'"
   ]
  },
  {
   "cell_type": "code",
   "execution_count": 167,
   "metadata": {},
   "outputs": [],
   "source": [
    "aux_2['Class'] = aux_2['PERC'].apply(ABC_segmentation)"
   ]
  },
  {
   "cell_type": "code",
   "execution_count": 168,
   "metadata": {},
   "outputs": [],
   "source": [
    "aux_2 = aux_2 [['NM_FANTASIA_ESTAB','CD_MATERIAL', 'Class']]"
   ]
  },
  {
   "cell_type": "code",
   "execution_count": 169,
   "metadata": {},
   "outputs": [],
   "source": [
    "base_avg_std_smart = base_avg_std_smart.merge(aux_2,  how = 'left',on = ['NM_FANTASIA_ESTAB','CD_MATERIAL'])"
   ]
  },
  {
   "cell_type": "markdown",
   "metadata": {},
   "source": [
    "#### Criando Estoque de Segurança"
   ]
  },
  {
   "cell_type": "code",
   "execution_count": 170,
   "metadata": {},
   "outputs": [],
   "source": [
    "nvl_serv = dict({'A': 0.99, 'B':0.95,'C': 0.90})"
   ]
  },
  {
   "cell_type": "code",
   "execution_count": 171,
   "metadata": {},
   "outputs": [],
   "source": [
    "base_avg_std_smart['NVL_SERV'] = base_avg_std_smart.Class.map(nvl_serv)"
   ]
  },
  {
   "cell_type": "code",
   "execution_count": 172,
   "metadata": {},
   "outputs": [],
   "source": [
    "base_avg_std_smart['Z'] = norm.ppf(base_avg_std_smart.NVL_SERV)"
   ]
  },
  {
   "cell_type": "code",
   "execution_count": 173,
   "metadata": {},
   "outputs": [],
   "source": [
    "# LEAD TIME ---> AQUI IRÁ MUDAR\n",
    "\n",
    "lead_time = 7\n",
    "std_lt = math.sqrt(3)"
   ]
  },
  {
   "cell_type": "code",
   "execution_count": 174,
   "metadata": {},
   "outputs": [],
   "source": [
    "base_avg_std_smart['safety_stock'] = base_avg_std_smart['Z'] * np.sqrt(\n",
    "    (((base_avg_std_smart['QT_MOV_STD']**2)*lead_time))+((std_lt**2)*(base_avg_std_smart['QT_MOV_MEAN']**2)))"
   ]
  },
  {
   "cell_type": "code",
   "execution_count": 175,
   "metadata": {},
   "outputs": [],
   "source": [
    "base_avg_std_smart.safety_stock = base_avg_std_smart.safety_stock.round(0)"
   ]
  },
  {
   "cell_type": "markdown",
   "metadata": {},
   "source": [
    "#### Criando estoque Max e médio"
   ]
  },
  {
   "cell_type": "code",
   "execution_count": 176,
   "metadata": {},
   "outputs": [],
   "source": [
    "# Freq Pedido ---> AQUI IRÁ MUDAR\n",
    "\n",
    "freq_pedido = 7"
   ]
  },
  {
   "cell_type": "code",
   "execution_count": 177,
   "metadata": {},
   "outputs": [],
   "source": [
    "base_avg_std_smart['Estoque_ciclo'] =  base_avg_std_smart['QT_MOV_MEAN']*freq_pedido"
   ]
  },
  {
   "cell_type": "code",
   "execution_count": 178,
   "metadata": {},
   "outputs": [],
   "source": [
    "base_avg_std_smart['Estoque_Medio'] = base_avg_std_smart['safety_stock'] + (base_avg_std_smart['Estoque_ciclo']/2) \n",
    "base_avg_std_smart['Estoque_Medio'] = base_avg_std_smart['Estoque_Medio'].round(0)"
   ]
  },
  {
   "cell_type": "code",
   "execution_count": 179,
   "metadata": {},
   "outputs": [],
   "source": [
    "base_avg_std_smart['Estoque_Max'] = base_avg_std_smart['safety_stock'] + (base_avg_std_smart['Estoque_ciclo']) \n",
    "base_avg_std_smart['Estoque_Max'] = base_avg_std_smart['Estoque_Max'].round(0)"
   ]
  },
  {
   "cell_type": "code",
   "execution_count": 180,
   "metadata": {},
   "outputs": [],
   "source": [
    "base_avg_std_smart['Pto_Pedido'] =  (base_avg_std_smart['QT_MOV_MEAN']*lead_time) + base_avg_std_smart['safety_stock']\n",
    "base_avg_std_smart['Pto_Pedido'] = base_avg_std_smart['Pto_Pedido'].round(0)"
   ]
  },
  {
   "cell_type": "code",
   "execution_count": 181,
   "metadata": {},
   "outputs": [],
   "source": [
    "# base_avg_std_smart.to_excel('Base_Excel_SMART.xlsx')"
   ]
  },
  {
   "cell_type": "markdown",
   "metadata": {},
   "source": [
    "## Unindo bases"
   ]
  },
  {
   "cell_type": "code",
   "execution_count": 182,
   "metadata": {},
   "outputs": [],
   "source": [
    "base_estoques = base_avg_std_tasy.append(base_avg_std_smart)"
   ]
  },
  {
   "cell_type": "code",
   "execution_count": 183,
   "metadata": {},
   "outputs": [
    {
     "data": {
      "text/plain": [
       "Index(['Base', 'NM_FANTASIA_ESTAB', 'CD_MATERIAL', 'DS_REDUZIDA',\n",
       "       'FAMILIA_PADRAO', 'CLASSE_MATERIAL', 'SUBGRUPO', 'GRUPO', 'QT_MOV_MEAN',\n",
       "       'QT_MOV_STD', 'QT_MOV_SUM', 'VALOR_MOV_SUM', 'QT_ESTOQUE',\n",
       "       'VALOR_ESTOQUE_ATUAL', 'DOH', 'Class', 'NVL_SERV', 'Z', 'safety_stock',\n",
       "       'Estoque_ciclo', 'Estoque_Medio', 'Estoque_Max', 'Pto_Pedido'],\n",
       "      dtype='object')"
      ]
     },
     "execution_count": 183,
     "metadata": {},
     "output_type": "execute_result"
    }
   ],
   "source": [
    "base_estoques.columns"
   ]
  },
  {
   "cell_type": "code",
   "execution_count": 184,
   "metadata": {},
   "outputs": [],
   "source": [
    "base_estoques['Preco_Uni'] = base_estoques['VALOR_ESTOQUE_ATUAL']/base_estoques['QT_ESTOQUE']\n",
    "base_estoques['Preco_Uni'].fillna(0, inplace = True)\n",
    "base_estoques['VALOR_EST_MEDIO'] = base_estoques['Estoque_Medio']*base_estoques['Preco_Uni']\n",
    "base_estoques['VALOR_CONS_DIR'] = base_estoques['VALOR_MOV_SUM']*base_estoques['QT_MOV_MEAN']/base_estoques['QT_MOV_SUM']"
   ]
  },
  {
   "cell_type": "code",
   "execution_count": 185,
   "metadata": {},
   "outputs": [],
   "source": [
    "base_estoques.to_excel('Base_Estoques.xlsx')"
   ]
  },
  {
   "cell_type": "markdown",
   "metadata": {},
   "source": [
    "### Cálculo de consumo mensal"
   ]
  },
  {
   "cell_type": "code",
   "execution_count": 186,
   "metadata": {},
   "outputs": [],
   "source": [
    "# Descrições de consumo\n",
    "\n",
    "lista_consumo_tasy =['Execução Prescrição',\n",
    "                     'Consumo',\n",
    "                     'CONSIGNADO - Consumo',\n",
    "                     'Reservas de lentes (INOB)',\n",
    "                     'Devolução Consumo',\n",
    "                     'Consumo Consignado',\n",
    "                     'Reserva de OPME',\n",
    "                     'Consumo da Produção',\n",
    "                     'Produção']"
   ]
  },
  {
   "cell_type": "code",
   "execution_count": 187,
   "metadata": {},
   "outputs": [],
   "source": [
    "# Colocando meses\n",
    "\n",
    "mov_tasy['MES'] = pd.DatetimeIndex(mov_tasy['DT_MOVIMENTO_ESTOQUE']).month\n",
    "mov_tasy['YEAR'] = pd.DatetimeIndex(mov_tasy['DT_MOVIMENTO_ESTOQUE']).year\n"
   ]
  },
  {
   "cell_type": "code",
   "execution_count": 188,
   "metadata": {},
   "outputs": [],
   "source": [
    "day = datetime.date(2020, 10, 1)\n",
    "filter_day = str(day)"
   ]
  },
  {
   "cell_type": "code",
   "execution_count": 189,
   "metadata": {},
   "outputs": [],
   "source": [
    "# Filtrando e criando a base\n",
    "\n",
    "consumo_tasy = mov_tasy[mov_tasy.DS_OPERACAO.isin(lista_consumo_tasy)]\n",
    "consumo_tasy = consumo_tasy[consumo_tasy.DT_MOVIMENTO_ESTOQUE >= filter_day]"
   ]
  },
  {
   "cell_type": "code",
   "execution_count": 190,
   "metadata": {},
   "outputs": [],
   "source": [
    "consumo_tasy = consumo_tasy.pivot_table(index = ['NM_FANTASIA_ESTAB',\n",
    "                                                       'CD_MATERIAL',\n",
    "                                                       'DS_REDUZIDA'],\n",
    "                                              columns = ['MES'],\n",
    "                                              values = ['QT_MOVIMENTO'],\n",
    "                                              aggfunc = sum)"
   ]
  },
  {
   "cell_type": "code",
   "execution_count": 191,
   "metadata": {},
   "outputs": [],
   "source": [
    "consumo_tasy.reset_index(inplace = True)\n",
    "\n",
    "consumo_tasy.fillna(0, inplace = True)"
   ]
  },
  {
   "cell_type": "code",
   "execution_count": 192,
   "metadata": {},
   "outputs": [],
   "source": [
    "# Descrições de consumo\n",
    "\n",
    "lista_consumo_smart =['Entrada por Estorno de Aplica+Æo',\n",
    "                      'Entrada por Estorno de Aplicacao',\n",
    "                      'Entrada por Estorno de Aplicação',\n",
    "                      'Sa¡da de Estoque para Aplica+Æo (Consumo de Paciente)',\n",
    "                      'Sa¡da de Estoque para Aplica+Æo (Consumo Interno)',\n",
    "                      'Sa¡da de Estoque para Aplicação (Consumo Interno)',\n",
    "                      'Saida de Estoque para Aplicacao (Consumo Interno)',\n",
    "                      'Saida de Estoque para Aplicacao (Consumo de Paciente)',\n",
    "                      'Saída de Estoque para Aplicação(Consumo Interno)',\n",
    "                      'Saída de Estoque para Aplicação (Consumo de Paciente)',\n",
    "                     'Sa¡da por Transforma+Æo']                    \n",
    "                     "
   ]
  },
  {
   "cell_type": "code",
   "execution_count": 193,
   "metadata": {},
   "outputs": [],
   "source": [
    "# Colocando meses\n",
    "\n",
    "mov_smart['MES'] = pd.DatetimeIndex(mov_smart['mma_data_mov']).month"
   ]
  },
  {
   "cell_type": "code",
   "execution_count": 194,
   "metadata": {},
   "outputs": [],
   "source": [
    "day = datetime.date(2020, 10, 1)\n",
    "filter_day = str(day)"
   ]
  },
  {
   "cell_type": "code",
   "execution_count": 195,
   "metadata": {},
   "outputs": [],
   "source": [
    "# Filtrando e criando a base\n",
    "\n",
    "consumo_smart = mov_smart[mov_smart.tmm_descr.isin(lista_consumo_smart)]\n",
    "consumo_smart = consumo_smart[consumo_smart.mma_data_mov >= filter_day]"
   ]
  },
  {
   "cell_type": "code",
   "execution_count": 196,
   "metadata": {},
   "outputs": [
    {
     "data": {
      "text/plain": [
       "Index(['MMA_TIPO_OPERACAO', 'mma_data_mov', 'MMA_SBA_COD', 'sba_nome',\n",
       "       'str_nome', 'mma_mat_cod', 'mma_ism_seq', 'MMA_ISM_SEQ', 'mma_lot_num',\n",
       "       'gmm_nome', 'fne_nome_fantasia', 'mat_desc_resumida', 'tmm_descr',\n",
       "       'tmm_tipo', 'mma_qtd', 'mma_valor', 'Base', 'MES'],\n",
       "      dtype='object')"
      ]
     },
     "execution_count": 196,
     "metadata": {},
     "output_type": "execute_result"
    }
   ],
   "source": [
    "consumo_smart.columns"
   ]
  },
  {
   "cell_type": "code",
   "execution_count": 197,
   "metadata": {},
   "outputs": [],
   "source": [
    "consumo_smart = consumo_smart.pivot_table(index = ['str_nome',\n",
    "                                                       'mma_mat_cod',\n",
    "                                                       'mat_desc_resumida'],\n",
    "                                              columns = ['MES'],\n",
    "                                              values = ['mma_qtd'],\n",
    "                                              aggfunc = sum)"
   ]
  },
  {
   "cell_type": "code",
   "execution_count": 198,
   "metadata": {},
   "outputs": [],
   "source": [
    "consumo_smart.reset_index(inplace = True)\n",
    "\n",
    "consumo_smart.fillna(0, inplace = True)"
   ]
  },
  {
   "cell_type": "code",
   "execution_count": 199,
   "metadata": {},
   "outputs": [],
   "source": [
    "consumo_smart.columns = consumo_tasy.columns"
   ]
  },
  {
   "cell_type": "code",
   "execution_count": 200,
   "metadata": {},
   "outputs": [],
   "source": [
    "consumo = consumo_tasy.append(consumo_smart)"
   ]
  },
  {
   "cell_type": "code",
   "execution_count": 201,
   "metadata": {},
   "outputs": [],
   "source": [
    "consumo.to_excel('CONSUMO_MENSAL.xlsx')"
   ]
  }
 ],
 "metadata": {
  "kernelspec": {
   "display_name": "Python 3",
   "language": "python",
   "name": "python3"
  },
  "language_info": {
   "codemirror_mode": {
    "name": "ipython",
    "version": 3
   },
   "file_extension": ".py",
   "mimetype": "text/x-python",
   "name": "python",
   "nbconvert_exporter": "python",
   "pygments_lexer": "ipython3",
   "version": "3.8.5"
  }
 },
 "nbformat": 4,
 "nbformat_minor": 4
}
